{
 "cells": [
  {
   "cell_type": "markdown",
   "id": "3ae2620f",
   "metadata": {},
   "source": [
    "# Testing how well LLM (GPT-4) perform on its own\n",
    "The codes are the response to a page of textbook/lecture note about some theorems or definitions."
   ]
  },
  {
   "cell_type": "markdown",
   "id": "0d6ed6b4",
   "metadata": {},
   "source": [
    "## One qubit computational states and their superposition"
   ]
  },
  {
   "cell_type": "code",
   "execution_count": 2,
   "id": "8a097013",
   "metadata": {},
   "outputs": [
    {
     "name": "stdout",
     "output_type": "stream",
     "text": [
      "Ket |0>:\n",
      " [[1]\n",
      " [0]]\n",
      "Ket |1>:\n",
      " [[0]\n",
      " [1]]\n",
      "Ket |+>:\n",
      " [[0.70710678]\n",
      " [0.70710678]]\n",
      "Ket |->:\n",
      " [[ 0.70710678]\n",
      " [-0.70710678]]\n"
     ]
    }
   ],
   "source": [
    "import numpy as np\n",
    "\n",
    "# Computational basis states\n",
    "ket_0 = np.array([[1], [0]])\n",
    "ket_1 = np.array([[0], [1]])\n",
    "\n",
    "# Superposition states\n",
    "# 1/sqrt(2)\n",
    "norm_factor = 1 / np.sqrt(2)\n",
    "\n",
    "# |+> = (|0> + |1>) / sqrt(2)\n",
    "ket_plus = norm_factor * (ket_0 + ket_1)\n",
    "\n",
    "# |-> = (|0> - |1>) / sqrt(2)\n",
    "ket_minus = norm_factor * (ket_0 - ket_1)\n",
    "\n",
    "# Print them to verify\n",
    "print(\"Ket |0>:\\n\", ket_0)\n",
    "print(\"Ket |1>:\\n\", ket_1)\n",
    "print(\"Ket |+>:\\n\", ket_plus)\n",
    "print(\"Ket |->:\\n\", ket_minus)"
   ]
  },
  {
   "cell_type": "markdown",
   "id": "efb3982d",
   "metadata": {},
   "source": [
    "## One qubit quantum gates"
   ]
  },
  {
   "cell_type": "code",
   "execution_count": 3,
   "id": "7ae28769",
   "metadata": {},
   "outputs": [
    {
     "name": "stdout",
     "output_type": "stream",
     "text": [
      "Hadamard gate:\n",
      " [[ 0.70710678  0.70710678]\n",
      " [ 0.70710678 -0.70710678]]\n"
     ]
    }
   ],
   "source": [
    "import numpy as np\n",
    "\n",
    "# Hadamard gate\n",
    "H = (1/np.sqrt(2)) * np.array([\n",
    "    [1, 1],\n",
    "    [1, -1]\n",
    "])\n",
    "\n",
    "# Print to verify\n",
    "print(\"Hadamard gate:\\n\", H)"
   ]
  },
  {
   "cell_type": "code",
   "execution_count": 4,
   "id": "3508f994",
   "metadata": {},
   "outputs": [
    {
     "name": "stdout",
     "output_type": "stream",
     "text": [
      "H |0> =\n",
      " [[0.70710678]\n",
      " [0.70710678]]\n",
      "H |1> =\n",
      " [[ 0.70710678]\n",
      " [-0.70710678]]\n"
     ]
    }
   ],
   "source": [
    "# Computational basis states\n",
    "ket_0 = np.array([[1], [0]])\n",
    "ket_1 = np.array([[0], [1]])\n",
    "\n",
    "# Applying Hadamard to |0> and |1>\n",
    "H_ket0 = np.dot(H, ket_0)\n",
    "H_ket1 = np.dot(H, ket_1)\n",
    "\n",
    "print(\"H |0> =\\n\", H_ket0)\n",
    "print(\"H |1> =\\n\", H_ket1)"
   ]
  },
  {
   "cell_type": "markdown",
   "id": "ff2c7b57",
   "metadata": {},
   "source": [
    "## Going beyond one qubit --- Tensor Product of qubit states"
   ]
  },
  {
   "cell_type": "code",
   "execution_count": 5,
   "id": "25ab44c7",
   "metadata": {},
   "outputs": [
    {
     "name": "stdout",
     "output_type": "stream",
     "text": [
      "Tensor product |0⟩ ⊗ |0⟩ = |00⟩ :\n",
      " [[1]\n",
      " [0]\n",
      " [0]\n",
      " [0]]\n"
     ]
    }
   ],
   "source": [
    "import numpy as np\n",
    "\n",
    "# Single qubit |0>\n",
    "ket_0 = np.array([[1], [0]])\n",
    "\n",
    "# Tensor product |0> ⊗ |0>\n",
    "ket_00 = np.kron(ket_0, ket_0)\n",
    "\n",
    "print(\"Tensor product |0⟩ ⊗ |0⟩ = |00⟩ :\\n\", ket_00)"
   ]
  },
  {
   "cell_type": "markdown",
   "id": "4640fb60",
   "metadata": {},
   "source": [
    "## Bell state"
   ]
  },
  {
   "cell_type": "code",
   "execution_count": 6,
   "id": "6f1c816d",
   "metadata": {},
   "outputs": [
    {
     "name": "stdout",
     "output_type": "stream",
     "text": [
      "Bell state |ϕ⟩:\n",
      " [[0.70710678]\n",
      " [0.        ]\n",
      " [0.        ]\n",
      " [0.70710678]]\n"
     ]
    }
   ],
   "source": [
    "import numpy as np\n",
    "\n",
    "# Basis vectors\n",
    "ket_0 = np.array([[1], [0]])\n",
    "ket_1 = np.array([[0], [1]])\n",
    "\n",
    "# Tensor products\n",
    "ket_00 = np.kron(ket_0, ket_0)\n",
    "ket_11 = np.kron(ket_1, ket_1)\n",
    "\n",
    "# Bell state (|00> + |11>)/sqrt(2)\n",
    "bell_phi = (1/np.sqrt(2)) * (ket_00 + ket_11)\n",
    "\n",
    "print(\"Bell state |ϕ⟩:\\n\", bell_phi)"
   ]
  },
  {
   "cell_type": "markdown",
   "id": "6f8b2810",
   "metadata": {},
   "source": [
    "## Greenberg-Horne-Zeilinger (GHZ) state"
   ]
  },
  {
   "cell_type": "code",
   "execution_count": 7,
   "id": "f38cb315",
   "metadata": {},
   "outputs": [
    {
     "name": "stdout",
     "output_type": "stream",
     "text": [
      "GHZ state |ϕ⟩:\n",
      " [[0.70710678]\n",
      " [0.        ]\n",
      " [0.        ]\n",
      " [0.        ]\n",
      " [0.        ]\n",
      " [0.        ]\n",
      " [0.        ]\n",
      " [0.70710678]]\n"
     ]
    }
   ],
   "source": [
    "import numpy as np\n",
    "\n",
    "# Basis vectors\n",
    "ket_0 = np.array([[1], [0]])\n",
    "ket_1 = np.array([[0], [1]])\n",
    "\n",
    "# Tensor products\n",
    "ket_000 = np.kron(np.kron(ket_0, ket_0), ket_0)\n",
    "ket_111 = np.kron(np.kron(ket_1, ket_1), ket_1)\n",
    "\n",
    "# GHZ state\n",
    "ghz = (1/np.sqrt(2)) * (ket_000 + ket_111)\n",
    "\n",
    "print(\"GHZ state |ϕ⟩:\\n\", ghz)"
   ]
  },
  {
   "cell_type": "markdown",
   "id": "cf78fd36",
   "metadata": {},
   "source": [
    "## How to test entanglement?"
   ]
  },
  {
   "cell_type": "code",
   "execution_count": 8,
   "id": "e8e69664",
   "metadata": {},
   "outputs": [
    {
     "name": "stdout",
     "output_type": "stream",
     "text": [
      "Singular values: [0.70710678 0.70710678]\n",
      "Schmidt rank: 2\n",
      "This state is entangled.\n"
     ]
    }
   ],
   "source": [
    "import numpy as np\n",
    "\n",
    "# Define |00> and |11>\n",
    "ket_0 = np.array([[1], [0]])\n",
    "ket_1 = np.array([[0], [1]])\n",
    "ket_00 = np.kron(ket_0, ket_0)\n",
    "ket_11 = np.kron(ket_1, ket_1)\n",
    "\n",
    "# Bell state (|00> + |11>)/sqrt(2)\n",
    "bell = (1/np.sqrt(2)) * (ket_00 + ket_11)\n",
    "\n",
    "# Reshape the 4x1 vector into a 2x2 matrix for SVD\n",
    "# (First qubit rows, second qubit columns)\n",
    "bell_matrix = bell.reshape(2, 2)\n",
    "\n",
    "# Perform SVD\n",
    "U, S, Vh = np.linalg.svd(bell_matrix)\n",
    "\n",
    "print(\"Singular values:\", S)\n",
    "\n",
    "# Count non-zero singular values (Schmidt rank)\n",
    "schmidt_rank = np.sum(S > 1e-10)\n",
    "\n",
    "print(\"Schmidt rank:\", schmidt_rank)\n",
    "\n",
    "if schmidt_rank > 1:\n",
    "    print(\"This state is entangled.\")\n",
    "else:\n",
    "    print(\"This state is separable.\")"
   ]
  },
  {
   "cell_type": "code",
   "execution_count": 9,
   "id": "509d9c33",
   "metadata": {},
   "outputs": [
    {
     "name": "stdout",
     "output_type": "stream",
     "text": [
      "Singular values: [1. 0.]\n"
     ]
    }
   ],
   "source": [
    "# Separable |00>\n",
    "bell = ket_00\n",
    "bell_matrix = bell.reshape(2, 2)\n",
    "U, S, Vh = np.linalg.svd(bell_matrix)\n",
    "print(\"Singular values:\", S)"
   ]
  },
  {
   "cell_type": "markdown",
   "id": "bc158a8d",
   "metadata": {},
   "source": [
    "## Applying a 1-qubit gate to a multi-qubit state"
   ]
  },
  {
   "cell_type": "code",
   "execution_count": 10,
   "id": "52e6e959",
   "metadata": {},
   "outputs": [
    {
     "name": "stdout",
     "output_type": "stream",
     "text": [
      "H ⊗ I ⊗ I matrix shape: (8, 8)\n"
     ]
    }
   ],
   "source": [
    "import numpy as np\n",
    "\n",
    "# Hadamard gate\n",
    "H = (1/np.sqrt(2)) * np.array([\n",
    "    [1, 1],\n",
    "    [1, -1]\n",
    "])\n",
    "\n",
    "# Identity gate\n",
    "I = np.eye(2)\n",
    "\n",
    "# Apply H to qubit 0 of 3 qubits:\n",
    "H_on_first = np.kron(np.kron(H, I), I)\n",
    "\n",
    "# Print the shape (should be 8x8)\n",
    "print(\"H ⊗ I ⊗ I matrix shape:\", H_on_first.shape)"
   ]
  },
  {
   "cell_type": "code",
   "execution_count": 11,
   "id": "2ddffbc5",
   "metadata": {},
   "outputs": [
    {
     "name": "stdout",
     "output_type": "stream",
     "text": [
      "New state after applying Hadamard on qubit 0:\n",
      " [[0.70710678]\n",
      " [0.        ]\n",
      " [0.        ]\n",
      " [0.        ]\n",
      " [0.70710678]\n",
      " [0.        ]\n",
      " [0.        ]\n",
      " [0.        ]]\n"
     ]
    }
   ],
   "source": [
    "# |0>\n",
    "ket_0 = np.array([[1], [0]])\n",
    "\n",
    "# |000>\n",
    "ket_000 = np.kron(np.kron(ket_0, ket_0), ket_0)\n",
    "\n",
    "# Apply (H ⊗ I ⊗ I)\n",
    "new_state = np.dot(H_on_first, ket_000)\n",
    "\n",
    "print(\"New state after applying Hadamard on qubit 0:\\n\", new_state)"
   ]
  },
  {
   "cell_type": "markdown",
   "id": "203cea92",
   "metadata": {},
   "source": [
    "## Applying a 2-qubit gate to a multi-qubit state"
   ]
  },
  {
   "cell_type": "code",
   "execution_count": 12,
   "id": "af8de1ed",
   "metadata": {},
   "outputs": [
    {
     "name": "stdout",
     "output_type": "stream",
     "text": [
      "Shape of (CNOT ⊗ I): (8, 8)\n"
     ]
    }
   ],
   "source": [
    "import numpy as np\n",
    "\n",
    "# 2-qubit CNOT gate\n",
    "CNOT = np.array([\n",
    "    [1,0,0,0],\n",
    "    [0,1,0,0],\n",
    "    [0,0,0,1],\n",
    "    [0,0,1,0]\n",
    "])\n",
    "\n",
    "# 1-qubit identity\n",
    "I = np.eye(2)\n",
    "\n",
    "# Apply CNOT to qubits 0-1 of 3 qubits: (CNOT ⊗ I)\n",
    "CNOT_on_first_two = np.kron(CNOT, I)\n",
    "\n",
    "# Confirm shape (8x8)\n",
    "print(\"Shape of (CNOT ⊗ I):\", CNOT_on_first_two.shape)"
   ]
  },
  {
   "cell_type": "code",
   "execution_count": 13,
   "id": "d08bc783",
   "metadata": {},
   "outputs": [
    {
     "name": "stdout",
     "output_type": "stream",
     "text": [
      "New state:\n",
      " [[1.]\n",
      " [0.]\n",
      " [0.]\n",
      " [0.]\n",
      " [0.]\n",
      " [0.]\n",
      " [0.]\n",
      " [0.]]\n"
     ]
    }
   ],
   "source": [
    "# |000>\n",
    "ket_0 = np.array([[1], [0]])\n",
    "ket_000 = np.kron(np.kron(ket_0, ket_0), ket_0)\n",
    "\n",
    "# Apply\n",
    "new_state = np.dot(CNOT_on_first_two, ket_000)\n",
    "\n",
    "print(\"New state:\\n\", new_state)"
   ]
  },
  {
   "cell_type": "markdown",
   "id": "5821d408",
   "metadata": {},
   "source": [
    "## What about applying a CNOT to the 1st and the 3rd qubit?"
   ]
  },
  {
   "cell_type": "code",
   "execution_count": 14,
   "id": "38f24f76",
   "metadata": {},
   "outputs": [
    {
     "name": "stdout",
     "output_type": "stream",
     "text": [
      "Shape of operator: (8, 8)\n",
      "New state after applying CNOT(control=0, target=2):\n",
      " [[1.]\n",
      " [0.]\n",
      " [0.]\n",
      " [0.]\n",
      " [0.]\n",
      " [0.]\n",
      " [0.]\n",
      " [0.]]\n"
     ]
    }
   ],
   "source": [
    "import numpy as np\n",
    "\n",
    "# Basic matrices\n",
    "I = np.eye(2)\n",
    "X = np.array([[0,1],[1,0]])\n",
    "\n",
    "# Projectors\n",
    "P0 = np.array([[1,0],[0,0]])\n",
    "P1 = np.array([[0,0],[0,1]])\n",
    "\n",
    "# CNOT with control qubit 0 and target qubit 2 in a 3-qubit register\n",
    "# U = (P0 ⊗ I ⊗ I) + (P1 ⊗ I ⊗ X)\n",
    "U = np.kron(P0, np.kron(I, I)) + np.kron(P1, np.kron(I, X))\n",
    "\n",
    "# Confirm size (8x8)\n",
    "print(\"Shape of operator:\", U.shape)\n",
    "\n",
    "# Example: Apply to |000>\n",
    "ket_0 = np.array([[1],[0]])\n",
    "ket_000 = np.kron(np.kron(ket_0, ket_0), ket_0)\n",
    "\n",
    "new_state = np.dot(U, ket_000)\n",
    "\n",
    "print(\"New state after applying CNOT(control=0, target=2):\\n\", new_state)"
   ]
  },
  {
   "cell_type": "markdown",
   "id": "37440ccf",
   "metadata": {},
   "source": [
    "## Last piece --- measurement"
   ]
  },
  {
   "cell_type": "code",
   "execution_count": 15,
   "id": "d0030d66",
   "metadata": {},
   "outputs": [
    {
     "name": "stdout",
     "output_type": "stream",
     "text": [
      "Probability of measuring qubit 0 = 0: 0.4999999999999999\n",
      "Renormalized post-measurement state:\n",
      " [[1.]\n",
      " [0.]\n",
      " [0.]\n",
      " [0.]\n",
      " [0.]\n",
      " [0.]\n",
      " [0.]\n",
      " [0.]]\n"
     ]
    }
   ],
   "source": [
    "import numpy as np\n",
    "\n",
    "# Projector onto |0>\n",
    "P0 = np.array([[1,0],\n",
    "               [0,0]])\n",
    "I = np.eye(2)\n",
    "\n",
    "# Example state: GHZ state |000> + |111>\n",
    "ket_0 = np.array([[1],[0]])\n",
    "ket_1 = np.array([[0],[1]])\n",
    "\n",
    "ket_000 = np.kron(np.kron(ket_0, ket_0), ket_0)\n",
    "ket_111 = np.kron(np.kron(ket_1, ket_1), ket_1)\n",
    "\n",
    "psi = (1/np.sqrt(2)) * (ket_000 + ket_111)\n",
    "\n",
    "# Measurement operator projecting qubit 0 to |0>\n",
    "M0 = np.kron(P0, np.kron(I, I))\n",
    "\n",
    "# Projected (unnormalized) state\n",
    "psi_projected = M0 @ psi\n",
    "\n",
    "# Probability of measuring 0 on qubit 0\n",
    "prob = np.vdot(psi_projected, psi_projected).real\n",
    "\n",
    "print(\"Probability of measuring qubit 0 = 0:\", prob)\n",
    "\n",
    "# If desired, renormalize the projected state\n",
    "if prob > 0:\n",
    "    psi_normalized = psi_projected / np.sqrt(prob)\n",
    "    print(\"Renormalized post-measurement state:\\n\", psi_normalized)\n",
    "else:\n",
    "    print(\"Probability is zero, no renormalized state.\")"
   ]
  },
  {
   "cell_type": "code",
   "execution_count": null,
   "id": "de38eef0",
   "metadata": {},
   "outputs": [],
   "source": []
  }
 ],
 "metadata": {
  "kernelspec": {
   "display_name": "quantum_env",
   "language": "python",
   "name": "python3"
  },
  "language_info": {
   "codemirror_mode": {
    "name": "ipython",
    "version": 3
   },
   "file_extension": ".py",
   "mimetype": "text/x-python",
   "name": "python",
   "nbconvert_exporter": "python",
   "pygments_lexer": "ipython3",
   "version": "3.12.6"
  }
 },
 "nbformat": 4,
 "nbformat_minor": 5
}
